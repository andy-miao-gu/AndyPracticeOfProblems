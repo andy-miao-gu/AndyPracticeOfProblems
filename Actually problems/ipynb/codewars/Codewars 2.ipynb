{
 "cells": [
  {
   "cell_type": "code",
   "execution_count": 62,
   "metadata": {},
   "outputs": [],
   "source": [
    "def old_custom_christmas_tree(chars, n):\n",
    "    chars = chars+' '\n",
    "    for each in range(1,n+1):\n",
    "        print(\" \"*(n-each) + chars*(each) +\" \"*(n-each) )\n",
    "\n",
    "    for i in range(int(n/3)):\n",
    "        print(\" \"*(n-1)+'|')\n"
   ]
  },
  {
   "cell_type": "code",
   "execution_count": 66,
   "metadata": {},
   "outputs": [
    {
     "name": "stdout",
     "output_type": "stream",
     "text": [
      "                   #                    \n",
      "                  # #                   \n",
      "                 # # #                  \n",
      "                # # # #                 \n",
      "               # # # # #                \n",
      "              # # # # # #               \n",
      "             # # # # # # #              \n",
      "            # # # # # # # #             \n",
      "           # # # # # # # # #            \n",
      "          # # # # # # # # # #           \n",
      "         # # # # # # # # # # #          \n",
      "        # # # # # # # # # # # #         \n",
      "       # # # # # # # # # # # # #        \n",
      "      # # # # # # # # # # # # # #       \n",
      "     # # # # # # # # # # # # # # #      \n",
      "    # # # # # # # # # # # # # # # #     \n",
      "   # # # # # # # # # # # # # # # # #    \n",
      "  # # # # # # # # # # # # # # # # # #   \n",
      " # # # # # # # # # # # # # # # # # # #  \n",
      "# # # # # # # # # # # # # # # # # # # # \n",
      "                   |\n",
      "                   |\n",
      "                   |\n",
      "                   |\n",
      "                   |\n",
      "                   |\n",
      "                   #                    \n",
      "                  # #                   \n",
      "                 # # #                  \n",
      "                # # # #                 \n",
      "               # # # # #                \n",
      "              # # # # # #               \n",
      "             # # # # # # #              \n",
      "            # # # # # # # #             \n",
      "           # # # # # # # # #            \n",
      "          # # # # # # # # # #           \n",
      "         # # # # # # # # # # #          \n",
      "        # # # # # # # # # # # #         \n",
      "       # # # # # # # # # # # # #        \n",
      "      # # # # # # # # # # # # # #       \n",
      "     # # # # # # # # # # # # # # #      \n",
      "    # # # # # # # # # # # # # # # #     \n",
      "   # # # # # # # # # # # # # # # # #    \n",
      "  # # # # # # # # # # # # # # # # # #   \n",
      " # # # # # # # # # # # # # # # # # # #  \n",
      "# # # # # # # # # # # # # # # # # # # # \n",
      "                   |\n",
      "                   |\n",
      "                   |\n",
      "                   |\n",
      "                   |\n",
      "                   |\n"
     ]
    }
   ],
   "source": [
    "old_custom_christmas_tree(\"#\",20) \n",
    "old_custom_christmas_tree(\"#\",20) "
   ]
  },
  {
   "cell_type": "code",
   "execution_count": 25,
   "metadata": {},
   "outputs": [],
   "source": [
    "def custom_christmas_tree(chars, n):\n",
    "    chars = \" \" + chars \n",
    "    chars =\" \".join ([\"\"+each for each in chars])    \n",
    "    for each in range(1,n+1):\n",
    "        print(\" \"*(n-each) + chars*(each) +\" \"*(n-each) )\n",
    "\n",
    "    for i in range(int(n/3)):\n",
    "        print(\" \"*(n-1)+'|')"
   ]
  },
  {
   "cell_type": "code",
   "execution_count": 26,
   "metadata": {},
   "outputs": [
    {
     "name": "stdout",
     "output_type": "stream",
     "text": [
      "      A B C    \n",
      "     A B C  A B C   \n",
      "    A B C  A B C  A B C  \n",
      "   A B C  A B C  A B C  A B C \n",
      "  A B C  A B C  A B C  A B C  A B C\n",
      "    |\n"
     ]
    }
   ],
   "source": [
    "custom_christmas_tree('ABC',5)\n"
   ]
  },
  {
   "cell_type": "code",
   "execution_count": 19,
   "metadata": {},
   "outputs": [
    {
     "data": {
      "text/plain": [
       "['A', 'B', 'C']"
      ]
     },
     "execution_count": 19,
     "metadata": {},
     "output_type": "execute_result"
    }
   ],
   "source": [
    "[\"\"+each for each in \"ABC\"]"
   ]
  },
  {
   "cell_type": "code",
   "execution_count": 28,
   "metadata": {},
   "outputs": [
    {
     "name": "stdout",
     "output_type": "stream",
     "text": [
      "     a     \n",
      "    a b    \n",
      "   a b c   \n",
      "  a b c  \n",
      " a b c \n",
      "a b c\n",
      "     |\n",
      "     |\n"
     ]
    }
   ],
   "source": [
    "def custom_christmas_tree(chars, n):\n",
    "    # Add a space before each character\n",
    "    chars_with_space = \" \".join(chars)\n",
    "    \n",
    "    # Build the tree's leaves\n",
    "    for each in range(1, n + 1):\n",
    "        # Calculate the number of characters for this row\n",
    "        num_chars = (each * 2) - 1\n",
    "        \n",
    "        # Calculate the number of spaces before and after the characters\n",
    "        num_spaces_before = (n - each)\n",
    "        num_spaces_after = (n - each)\n",
    "        \n",
    "        # Construct the row\n",
    "        row = \" \" * num_spaces_before + chars_with_space[:num_chars] + \" \" * num_spaces_after\n",
    "        print(row)\n",
    "    \n",
    "    # Determine the height of the trunk\n",
    "    trunk_height = n // 3\n",
    "    \n",
    "    # Build the tree's trunk\n",
    "    for _ in range(trunk_height):\n",
    "        print(\" \" * (n - 1) + \"|\")\n",
    "\n",
    "# Test the function\n",
    "chars = \"abc\"\n",
    "n = 6\n",
    "custom_christmas_tree(chars, n)\n"
   ]
  },
  {
   "cell_type": "code",
   "execution_count": null,
   "metadata": {},
   "outputs": [],
   "source": []
  }
 ],
 "metadata": {
  "kernelspec": {
   "display_name": "base",
   "language": "python",
   "name": "python3"
  },
  "language_info": {
   "codemirror_mode": {
    "name": "ipython",
    "version": 3
   },
   "file_extension": ".py",
   "mimetype": "text/x-python",
   "name": "python",
   "nbconvert_exporter": "python",
   "pygments_lexer": "ipython3",
   "version": "3.10.9"
  }
 },
 "nbformat": 4,
 "nbformat_minor": 2
}
