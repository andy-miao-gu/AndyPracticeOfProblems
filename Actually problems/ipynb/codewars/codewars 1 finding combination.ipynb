{
 "cells": [
  {
   "cell_type": "code",
   "execution_count": 11,
   "metadata": {},
   "outputs": [
    {
     "data": {
      "text/plain": [
       "'\\nffg\\nfgf\\ngff\\nggf\\ngfg\\nfgg\\n\\n'"
      ]
     },
     "execution_count": 11,
     "metadata": {},
     "output_type": "execute_result"
    }
   ],
   "source": [
    "#{f,g}, 3\n",
    "\"\"\"\n",
    "ffg\n",
    "fgf\n",
    "gff\n",
    "ggf\n",
    "gfg\n",
    "fgg\n",
    "\n",
    "\"\"\""
   ]
  },
  {
   "cell_type": "code",
   "execution_count": null,
   "metadata": {},
   "outputs": [],
   "source": [
    "#{f,g}, 2\n",
    "\"\"\"\n",
    "fg\n",
    "gf\n",
    "\"\"\""
   ]
  },
  {
   "cell_type": "code",
   "execution_count": 1,
   "metadata": {},
   "outputs": [
    {
     "data": {
      "text/plain": [
       "'\\nfffg\\nffgf\\nfgff\\ngfff\\ngggf\\nggfg\\ngfgg\\nfggg\\nfgfg\\ngfgf\\nfggf\\ngffg\\n\\n'"
      ]
     },
     "execution_count": 1,
     "metadata": {},
     "output_type": "execute_result"
    }
   ],
   "source": [
    "#{f,g}, 4\n",
    "\"\"\"\n",
    "fffg\n",
    "ffgf\n",
    "fgff\n",
    "gfff\n",
    "gggf\n",
    "ggfg\n",
    "gfgg\n",
    "fggg\n",
    "fgfg\n",
    "gfgf\n",
    "fggf\n",
    "gffg\n",
    "\n",
    "\"\"\""
   ]
  },
  {
   "cell_type": "code",
   "execution_count": 9,
   "metadata": {},
   "outputs": [
    {
     "name": "stdout",
     "output_type": "stream",
     "text": [
      "['ggf', 'gfg', 'gff', 'fgg', 'fgf', 'ffg']\n"
     ]
    }
   ],
   "source": [
    "from itertools import product\n",
    "\n",
    "def generate_combinations(letters, n, required_letter):\n",
    "    all_combinations = []\n",
    "\n",
    "    for combination in product(letters, repeat=n):\n",
    "        if required_letter in combination and 'g' in combination:\n",
    "            all_combinations.append(''.join(combination))\n",
    "\n",
    "    return all_combinations\n",
    "\n",
    "# Example usage\n",
    "letters_set = {'f', 'g'}\n",
    "n = 3\n",
    "required_letter = 'f'\n",
    "\n",
    "result = generate_combinations(letters_set, n, required_letter)\n",
    "print(result)\n"
   ]
  },
  {
   "cell_type": "code",
   "execution_count": 20,
   "metadata": {},
   "outputs": [
    {
     "data": {
      "text/plain": [
       "['aaab',\n",
       " 'aaba',\n",
       " 'aabb',\n",
       " 'abaa',\n",
       " 'abab',\n",
       " 'abba',\n",
       " 'abbb',\n",
       " 'baaa',\n",
       " 'baab',\n",
       " 'baba',\n",
       " 'babb',\n",
       " 'bbaa',\n",
       " 'bbab',\n",
       " 'bbba']"
      ]
     },
     "execution_count": 20,
     "metadata": {},
     "output_type": "execute_result"
    }
   ],
   "source": [
    "from itertools import product\n",
    "thing = {'a','b'}\n",
    "n=4\n",
    "lst=list( product(thing,repeat = n) )\n",
    "final = []\n",
    "for each in lst:\n",
    "    joined_str=\"\".join(each)\n",
    "    if list(thing)[0] in joined_str and list(thing)[1] in joined_str:\n",
    "        final.append(joined_str)\n",
    "return final"
   ]
  },
  {
   "cell_type": "code",
   "execution_count": 35,
   "metadata": {},
   "outputs": [],
   "source": [
    "# Return an integer, the number of strings of length 'n'\n",
    "# that use all of the symbols in an alphabet\n",
    "# of length = 'a' at least once.\n",
    "\n",
    "def ispresent(my_list, my_string):\n",
    "    for element in my_list:\n",
    "        if element not in my_string:\n",
    "            return False\n",
    "    return True\n",
    "\n",
    "def use_all_symbols(n,a):\n",
    "    \n",
    "    from itertools import product\n",
    "    thing = ['A','B','C','D'][:a]\n",
    "\n",
    "    lst=list( product(thing,repeat = n) )\n",
    "    final = []\n",
    "    for each in lst:\n",
    "        joined_str=\"\".join(each)\n",
    "        if ispresent(thing,each):\n",
    "            final.append(joined_str)\n",
    "    return len(final)"
   ]
  },
  {
   "cell_type": "code",
   "execution_count": 36,
   "metadata": {},
   "outputs": [
    {
     "data": {
      "text/plain": [
       "150"
      ]
     },
     "execution_count": 36,
     "metadata": {},
     "output_type": "execute_result"
    }
   ],
   "source": [
    "use_all_symbols(5,3)"
   ]
  },
  {
   "cell_type": "code",
   "execution_count": 34,
   "metadata": {},
   "outputs": [],
   "source": [
    "def ispresent(my_list, my_string):\n",
    "    for element in my_list:\n",
    "        if element not in my_string:\n",
    "            return False\n",
    "    return True\n"
   ]
  },
  {
   "cell_type": "code",
   "execution_count": 37,
   "metadata": {},
   "outputs": [],
   "source": [
    "def generate_combinations(alphabet, n, current_combination=[]):\n",
    "    if n == 0:\n",
    "        return [current_combination]\n",
    "    \n",
    "    combinations = []\n",
    "    for symbol in alphabet:\n",
    "        combinations += generate_combinations(alphabet, n - 1, current_combination + [symbol])\n",
    "    \n",
    "    return combinations\n",
    "\n",
    "def use_all_symbols(n, a):\n",
    "    if a >= n:\n",
    "        return 0\n",
    "    \n",
    "    alphabet = ['A', 'B', 'C', 'D'][:a]\n",
    "\n",
    "    def is_valid(combination):\n",
    "        return all(symbol in combination for symbol in alphabet)\n",
    "\n",
    "    valid_combinations = generate_combinations(alphabet, n)\n",
    "    \n",
    "    return sum(is_valid(combination) for combination in valid_combinations)\n",
    "\n"
   ]
  },
  {
   "cell_type": "code",
   "execution_count": 38,
   "metadata": {},
   "outputs": [
    {
     "data": {
      "text/plain": [
       "30"
      ]
     },
     "execution_count": 38,
     "metadata": {},
     "output_type": "execute_result"
    }
   ],
   "source": [
    "use_all_symbols(5,2)"
   ]
  },
  {
   "cell_type": "code",
   "execution_count": null,
   "metadata": {},
   "outputs": [],
   "source": []
  }
 ],
 "metadata": {
  "kernelspec": {
   "display_name": "base",
   "language": "python",
   "name": "python3"
  },
  "language_info": {
   "codemirror_mode": {
    "name": "ipython",
    "version": 3
   },
   "file_extension": ".py",
   "mimetype": "text/x-python",
   "name": "python",
   "nbconvert_exporter": "python",
   "pygments_lexer": "ipython3",
   "version": "3.10.9"
  }
 },
 "nbformat": 4,
 "nbformat_minor": 2
}
