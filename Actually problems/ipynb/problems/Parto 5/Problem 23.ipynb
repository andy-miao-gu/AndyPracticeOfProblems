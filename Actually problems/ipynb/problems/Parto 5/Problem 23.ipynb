{
 "cells": [
  {
   "cell_type": "code",
   "execution_count": 62,
   "metadata": {},
   "outputs": [],
   "source": [
    "import math\n",
    "v=30\n"
   ]
  },
  {
   "cell_type": "code",
   "execution_count": 63,
   "metadata": {},
   "outputs": [
    {
     "data": {
      "text/plain": [
       "100.00000000537403"
      ]
     },
     "execution_count": 63,
     "metadata": {},
     "output_type": "execute_result"
    }
   ],
   "source": [
    "angle=math.radians(12.172253989)\n",
    "d = v**2 * math.sin(2*angle) / 3.71\n",
    "d"
   ]
  },
  {
   "cell_type": "code",
   "execution_count": 64,
   "metadata": {},
   "outputs": [],
   "source": [
    "import numpy as np"
   ]
  },
  {
   "cell_type": "code",
   "execution_count": 65,
   "metadata": {},
   "outputs": [
    {
     "name": "stdout",
     "output_type": "stream",
     "text": [
      "99.99999993737812 12.172253980186495\n",
      "99.99999993737812 12.172253980186495\n",
      "99.99999993737812 12.172253980186495\n",
      "99.99999993737812 12.172253980186495\n",
      "99.99999993737812 12.172253980186495\n",
      "99.99999993737812 12.172253980186495\n",
      "99.99999993737812 12.172253980186495\n",
      "99.99999993737812 12.172253980186495\n",
      "99.99999993737812 12.172253980186495\n",
      "99.99999993737812 12.172253980186495\n",
      "99.99999993737812 12.172253980186495\n",
      "99.99999993737812 12.172253980186495\n",
      "99.99999993737812 12.172253980186495\n",
      "99.99999993737812 12.172253980186495\n",
      "99.99999993737812 12.172253980186495\n",
      "99.99999993737812 12.172253980186495\n",
      "99.99999993737812 12.172253980186495\n",
      "99.99999993737812 12.172253980186495\n",
      "99.99999993737812 12.172253980186495\n",
      "99.99999993737812 12.172253980186495\n",
      "99.99999993737812 12.172253980186495\n",
      "99.99999993737812 12.172253980186495\n",
      "99.99999993737812 12.172253980186495\n",
      "99.99999993737812 12.172253980186495\n",
      "99.99999993737812 12.172253980186495\n",
      "99.99999993737812 12.172253980186495\n",
      "99.99999993737812 12.172253980186495\n",
      "99.99999993737812 12.172253980186495\n",
      "99.99999993737812 12.172253980186495\n",
      "99.99999993737812 12.172253980186495\n",
      "99.99999993737812 12.172253980186495\n",
      "99.99999993737812 12.172253980186495\n",
      "99.99999993737812 12.172253980186495\n",
      "99.99999993737812 12.172253980186495\n",
      "99.99999993737812 12.172253980186495\n",
      "99.99999993737812 12.172253980186495\n",
      "99.99999993737812 12.172253980186495\n",
      "99.99999993737812 12.172253980186495\n",
      "99.99999993737812 12.172253980186495\n",
      "99.99999993737812 12.172253980186495\n",
      "99.99999993737812 12.172253980186495\n",
      "99.99999993737812 12.172253980186495\n",
      "99.99999993737812 12.172253980186495\n",
      "99.99999993737812 12.172253980186495\n",
      "99.99999993737812 12.172253980186495\n",
      "99.99999993737812 12.172253980186495\n",
      "99.99999993737812 12.172253980186495\n",
      "99.99999993737812 12.172253980186495\n",
      "99.99999993737812 12.172253980186495\n",
      "99.99999993737812 12.172253980186495\n",
      "99.99999993737812 12.172253980186495\n",
      "99.99999993737812 12.172253980186495\n",
      "99.99999993737812 12.172253980186495\n",
      "99.99999993737812 12.172253980186495\n"
     ]
    }
   ],
   "source": [
    "for i in np.arange(12.172253980186495,12.1722539801865,0.0000000000000001):\n",
    "\n",
    "    angle=math.radians(i)\n",
    "    d = v**2 * math.sin(2*angle) / 3.71\n",
    "    print(d,i)"
   ]
  },
  {
   "cell_type": "code",
   "execution_count": 66,
   "metadata": {},
   "outputs": [],
   "source": [
    "from scipy.optimize import fmin"
   ]
  },
  {
   "cell_type": "code",
   "execution_count": 70,
   "metadata": {},
   "outputs": [],
   "source": [
    "fun = lambda angle : 30**2 * math.sin(2*math.radians(angle)) / 3.71"
   ]
  },
  {
   "cell_type": "code",
   "execution_count": 73,
   "metadata": {},
   "outputs": [
    {
     "name": "stdout",
     "output_type": "stream",
     "text": [
      "Optimization terminated successfully.\n",
      "         Current function value: -242.587601\n",
      "         Iterations: 25\n",
      "         Function evaluations: 50\n"
     ]
    },
    {
     "data": {
      "text/plain": [
       "array([-45.00003088])"
      ]
     },
     "execution_count": 73,
     "metadata": {},
     "output_type": "execute_result"
    }
   ],
   "source": [
    "fmin(fun,12.17)"
   ]
  },
  {
   "cell_type": "code",
   "execution_count": 74,
   "metadata": {},
   "outputs": [
    {
     "data": {
      "text/plain": [
       "242.58760107802618"
      ]
     },
     "execution_count": 74,
     "metadata": {},
     "output_type": "execute_result"
    }
   ],
   "source": [
    "fun(45.00003088)"
   ]
  },
  {
   "cell_type": "code",
   "execution_count": 77,
   "metadata": {},
   "outputs": [
    {
     "name": "stdout",
     "output_type": "stream",
     "text": [
      "Optimal angle: 77.765625\n",
      "Result at optimal angle: 100\n"
     ]
    }
   ],
   "source": [
    "import math\n",
    "from scipy.optimize import fmin\n",
    "\n",
    "def objective(angle):\n",
    "    return abs(round(30**2 * math.sin(2*math.radians(angle)) / 3.71) - 100)\n",
    "\n",
    "# Initial guess for the angle\n",
    "initial_guess = 45  # You can choose any initial guess here\n",
    "\n",
    "# Using fmin to find the angle that minimizes the difference\n",
    "optimal_angle = fmin(objective, initial_guess, disp=False)[0]\n",
    "\n",
    "print(\"Optimal angle:\", optimal_angle)\n",
    "print(\"Result at optimal angle:\", round(30**2 * math.sin(2*math.radians(optimal_angle)) / 3.71))\n"
   ]
  },
  {
   "cell_type": "code",
   "execution_count": 78,
   "metadata": {},
   "outputs": [
    {
     "name": "stdout",
     "output_type": "stream",
     "text": [
      "Root angle (in degrees): 12.172253988303423\n"
     ]
    }
   ],
   "source": [
    "import math\n",
    "from scipy.optimize import fsolve\n",
    "\n",
    "# Define your function\n",
    "def fun(angle):\n",
    "    return 30**2 * math.sin(2*math.radians(angle)) / 3.71\n",
    "\n",
    "# Define the function whose root you want to find\n",
    "def equation_to_solve(angle):\n",
    "    return fun(angle) - 100\n",
    "\n",
    "# Use fsolve to find the root of the equation\n",
    "root_angle = fsolve(equation_to_solve, 0)[0]  # Starting guess at angle = 0\n",
    "\n",
    "print(\"Root angle (in degrees):\", root_angle)\n"
   ]
  },
  {
   "cell_type": "code",
   "execution_count": 83,
   "metadata": {},
   "outputs": [
    {
     "data": {
      "text/plain": [
       "100.0"
      ]
     },
     "execution_count": 83,
     "metadata": {},
     "output_type": "execute_result"
    }
   ],
   "source": [
    "fun(12.172253988303428)"
   ]
  },
  {
   "cell_type": "code",
   "execution_count": 85,
   "metadata": {},
   "outputs": [],
   "source": [
    "# Sample values for variables\n",
    "vi = 10  # Initial velocity (m/s)\n",
    "a = 2    # Acceleration (m/s^2)\n",
    "s0 = 5   # Initial displacement (m)\n",
    "\n",
    "# Equations as lambda functions\n",
    "displacement = lambda t: s0 + vi * t + 0.5 * a * t**2\n",
    "velocity = lambda t: vi + a * t\n"
   ]
  },
  {
   "cell_type": "code",
   "execution_count": 87,
   "metadata": {},
   "outputs": [],
   "source": [
    "# when will our car will travel 2500004 meter distance after how long time ?? use fsovle to find"
   ]
  },
  {
   "cell_type": "code",
   "execution_count": 89,
   "metadata": {},
   "outputs": [],
   "source": [
    "def equation_to_solve(t):\n",
    "    return displacement(t) - 2500004"
   ]
  },
  {
   "cell_type": "code",
   "execution_count": 93,
   "metadata": {},
   "outputs": [
    {
     "data": {
      "text/plain": [
       "array([1576.14641953])"
      ]
     },
     "execution_count": 93,
     "metadata": {},
     "output_type": "execute_result"
    }
   ],
   "source": [
    "fsolve(equation_to_solve,200)"
   ]
  },
  {
   "cell_type": "code",
   "execution_count": 113,
   "metadata": {},
   "outputs": [
    {
     "data": {
      "text/plain": [
       "2500004.0000000647"
      ]
     },
     "execution_count": 113,
     "metadata": {},
     "output_type": "execute_result"
    }
   ],
   "source": [
    "displacement(1576.14641953238)"
   ]
  },
  {
   "cell_type": "code",
   "execution_count": null,
   "metadata": {},
   "outputs": [],
   "source": []
  }
 ],
 "metadata": {
  "kernelspec": {
   "display_name": "base",
   "language": "python",
   "name": "python3"
  },
  "language_info": {
   "codemirror_mode": {
    "name": "ipython",
    "version": 3
   },
   "file_extension": ".py",
   "mimetype": "text/x-python",
   "name": "python",
   "nbconvert_exporter": "python",
   "pygments_lexer": "ipython3",
   "version": "3.10.9"
  }
 },
 "nbformat": 4,
 "nbformat_minor": 2
}
