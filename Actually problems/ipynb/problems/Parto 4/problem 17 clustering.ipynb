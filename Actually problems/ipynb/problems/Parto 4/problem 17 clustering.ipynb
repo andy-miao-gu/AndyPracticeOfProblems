{
 "cells": [
  {
   "cell_type": "code",
   "execution_count": 12,
   "metadata": {},
   "outputs": [],
   "source": [
    "# easiest way of clustering \n",
    "import numpy as np"
   ]
  },
  {
   "cell_type": "code",
   "execution_count": 13,
   "metadata": {},
   "outputs": [
    {
     "data": {
      "text/plain": [
       "array([ 1,  2,  3,  4,  5,  6, 15, 16, 17, 18, 19, 20, 21, 40, 41, 42, 43,\n",
       "       44, 46])"
      ]
     },
     "execution_count": 13,
     "metadata": {},
     "output_type": "execute_result"
    }
   ],
   "source": [
    "x = np.array([1,2,3,4,5,6,15,16,17,18,19,20,21,40,41,42,43,44,46])\n",
    "x"
   ]
  },
  {
   "cell_type": "code",
   "execution_count": 14,
   "metadata": {},
   "outputs": [],
   "source": [
    "# we have to find centroids\n",
    "k = 2 # i need two cluster centers"
   ]
  },
  {
   "cell_type": "code",
   "execution_count": 15,
   "metadata": {},
   "outputs": [
    {
     "data": {
      "text/plain": [
       "[<matplotlib.lines.Line2D at 0x7ff2b10ce6b0>]"
      ]
     },
     "execution_count": 15,
     "metadata": {},
     "output_type": "execute_result"
    },
    {
     "data": {
      "image/png": "[encoded data removed]",
      "text/plain": [
       "<Figure size 640x480 with 1 Axes>"
      ]
     },
     "metadata": {},
     "output_type": "display_data"
    }
   ],
   "source": [
    "import matplotlib.pyplot as plt\n",
    "plt.plot(x,'x')"
   ]
  },
  {
   "cell_type": "code",
   "execution_count": 21,
   "metadata": {},
   "outputs": [
    {
     "data": {
      "text/plain": [
       "(array([-2.5, -1.5, -0.5,  0.5,  1.5,  2.5, 11.5, 12.5, 13.5, 14.5, 15.5,\n",
       "        16.5, 17.5, 36.5, 37.5, 38.5, 39.5, 40.5, 42.5]),\n",
       " array([-15.8, -14.8, -13.8, -12.8, -11.8, -10.8,  -1.8,  -0.8,   0.2,\n",
       "          1.2,   2.2,   3.2,   4.2,  23.2,  24.2,  25.2,  26.2,  27.2,\n",
       "         29.2]),\n",
       " array([-40.87945367, -39.87945367, -38.87945367, -37.87945367,\n",
       "        -36.87945367, -35.87945367, -26.87945367, -25.87945367,\n",
       "        -24.87945367, -23.87945367, -22.87945367, -21.87945367,\n",
       "        -20.87945367,  -1.87945367,  -0.87945367,   0.12054633,\n",
       "          1.12054633,   2.12054633,   4.12054633]))"
      ]
     },
     "execution_count": 21,
     "metadata": {},
     "output_type": "execute_result"
    }
   ],
   "source": [
    "c1 = 3.5\n",
    "c2 = 16.8\n",
    "c3 = 41.87945367\n",
    "\n",
    "\n",
    "# i have to get the position of the closest value to c1 from cluterr1\n",
    "x-c1,x-c2,x-c3"
   ]
  },
  {
   "cell_type": "code",
   "execution_count": 23,
   "metadata": {},
   "outputs": [],
   "source": [
    "# firt i need to find the cluster1 cluster2 and cluster3\n",
    "cp1 = [3,3.5]\n",
    "cp2 = [8,16.8]\n",
    "cp3 = [15,41.87945367]"
   ]
  },
  {
   "cell_type": "code",
   "execution_count": 31,
   "metadata": {},
   "outputs": [],
   "source": [
    "cluster1 = np.array((1,2,3,4,5,6))\n",
    "cluster2 = np.array((15,16,17,18,19,20,21))\n",
    "cluster3 = np.array((40,41,42,43,44,46))"
   ]
  },
  {
   "cell_type": "code",
   "execution_count": 32,
   "metadata": {},
   "outputs": [
    {
     "data": {
      "text/plain": [
       "[<matplotlib.lines.Line2D at 0x7ff2d034a740>,\n",
       " <matplotlib.lines.Line2D at 0x7ff2d034a770>]"
      ]
     },
     "execution_count": 32,
     "metadata": {},
     "output_type": "execute_result"
    },
    {
     "data": {
      "image/png": "[encoded data removed]",
      "text/plain": [
       "<Figure size 640x480 with 1 Axes>"
      ]
     },
     "metadata": {},
     "output_type": "display_data"
    }
   ],
   "source": [
    "plt.plot(x,'.')\n",
    "plt.plot(cp1[0],cp1[1],'x','r')\n",
    "plt.plot(cp2[0],cp2[1],'x','r')\n",
    "plt.plot(cp3[0],cp3[1],'x','r')"
   ]
  },
  {
   "cell_type": "code",
   "execution_count": 33,
   "metadata": {},
   "outputs": [],
   "source": [
    "cm1 =np.mean(cluster1)\n",
    "cm2 =np.mean(cluster2)\n",
    "cm3 =np.mean(cluster3)\n"
   ]
  },
  {
   "cell_type": "code",
   "execution_count": 35,
   "metadata": {},
   "outputs": [
    {
     "data": {
      "text/plain": [
       "(array([-2.5, -1.5, -0.5,  0.5,  1.5,  2.5, 11.5, 12.5, 13.5, 14.5, 15.5,\n",
       "        16.5, 17.5, 36.5, 37.5, 38.5, 39.5, 40.5, 42.5]),\n",
       " array([-17., -16., -15., -14., -13., -12.,  -3.,  -2.,  -1.,   0.,   1.,\n",
       "          2.,   3.,  22.,  23.,  24.,  25.,  26.,  28.]),\n",
       " array([-41.66666667, -40.66666667, -39.66666667, -38.66666667,\n",
       "        -37.66666667, -36.66666667, -27.66666667, -26.66666667,\n",
       "        -25.66666667, -24.66666667, -23.66666667, -22.66666667,\n",
       "        -21.66666667,  -2.66666667,  -1.66666667,  -0.66666667,\n",
       "          0.33333333,   1.33333333,   3.33333333]))"
      ]
     },
     "execution_count": 35,
     "metadata": {},
     "output_type": "execute_result"
    }
   ],
   "source": [
    "x-cm1,x-cm2,x-cm3"
   ]
  },
  {
   "cell_type": "code",
   "execution_count": 37,
   "metadata": {},
   "outputs": [],
   "source": [
    "cx1=3, cm1\n",
    "cx2=9, cm2\n",
    "cx3=16, cm3"
   ]
  },
  {
   "cell_type": "code",
   "execution_count": 42,
   "metadata": {},
   "outputs": [
    {
     "data": {
      "text/plain": [
       "[<matplotlib.lines.Line2D at 0x7ff2c05b2a70>,\n",
       " <matplotlib.lines.Line2D at 0x7ff2c05b2aa0>]"
      ]
     },
     "execution_count": 42,
     "metadata": {},
     "output_type": "execute_result"
    },
    {
     "data": {
      "image/png": "[encoded data removed]",
      "text/plain": [
       "<Figure size 640x480 with 1 Axes>"
      ]
     },
     "metadata": {},
     "output_type": "display_data"
    }
   ],
   "source": [
    "plt.plot(x,'.')\n",
    "plt.plot(cx1[0],cx1[1],'x','r')\n",
    "plt.plot(cx2[0],cx2[1],'x','r')\n",
    "plt.plot(cx3[0],cx3[1],'x','r')\n"
   ]
  },
  {
   "cell_type": "code",
   "execution_count": 48,
   "metadata": {},
   "outputs": [],
   "source": [
    "def tell_index(x,point):\n",
    "    arr = x-point\n",
    "    closest_index = np.abs(arr).argmin()\n",
    "\n",
    "    return closest_index,x[closest_index]"
   ]
  },
  {
   "cell_type": "code",
   "execution_count": null,
   "metadata": {},
   "outputs": [],
   "source": []
  },
  {
   "cell_type": "code",
   "execution_count": 52,
   "metadata": {},
   "outputs": [],
   "source": [
    "ind = tell_index(x,c3)"
   ]
  },
  {
   "cell_type": "code",
   "execution_count": 53,
   "metadata": {},
   "outputs": [
    {
     "data": {
      "text/plain": [
       "(15, 42)"
      ]
     },
     "execution_count": 53,
     "metadata": {},
     "output_type": "execute_result"
    }
   ],
   "source": [
    "ind"
   ]
  },
  {
   "cell_type": "code",
   "execution_count": null,
   "metadata": {},
   "outputs": [],
   "source": []
  }
 ],
 "metadata": {
  "kernelspec": {
   "display_name": "base",
   "language": "python",
   "name": "python3"
  },
  "language_info": {
   "codemirror_mode": {
    "name": "ipython",
    "version": 3
   },
   "file_extension": ".py",
   "mimetype": "text/x-python",
   "name": "python",
   "nbconvert_exporter": "python",
   "pygments_lexer": "ipython3",
   "version": "3.10.9"
  }
 },
 "nbformat": 4,
 "nbformat_minor": 2
}
