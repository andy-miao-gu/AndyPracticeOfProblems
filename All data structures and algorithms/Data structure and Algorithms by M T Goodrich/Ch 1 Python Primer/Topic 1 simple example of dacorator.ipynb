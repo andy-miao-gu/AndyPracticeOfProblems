{
 "cells": [
  {
   "cell_type": "code",
   "execution_count": 2,
   "metadata": {},
   "outputs": [
    {
     "name": "stdout",
     "output_type": "stream",
     "text": [
      "Before the function\n",
      "Inside the function\n",
      "After the function\n"
     ]
    }
   ],
   "source": [
    "def simple_decorator(func):\n",
    "    def wrapper():\n",
    "        print(\"Before the function\")\n",
    "        func()\n",
    "        print(\"After the function\")\n",
    "    return wrapper\n",
    "\n",
    "@simple_decorator\n",
    "def my_function():\n",
    "    print(\"Inside the function\")\n",
    "\n",
    "# Calling the decorated function\n",
    "my_function()\n"
   ]
  },
  {
   "cell_type": "code",
   "execution_count": 5,
   "metadata": {},
   "outputs": [
    {
     "name": "stdout",
     "output_type": "stream",
     "text": [
      "20\n"
     ]
    }
   ],
   "source": [
    "num1 = 0\n",
    "num2 = 0\n",
    "\n",
    "for x in range(5):\n",
    "    num1 = x\n",
    "    for y in range(14):\n",
    "        num2 = y + 3\n",
    "\n",
    "print(num1 + num2)"
   ]
  },
  {
   "cell_type": "code",
   "execution_count": 6,
   "metadata": {},
   "outputs": [
    {
     "name": "stdout",
     "output_type": "stream",
     "text": [
      "['Jacomo', 'Emma', 'Uli', 'Nia', 'Imani', 'Loik', 'Gabriel', 'Ahmed', 'Soraya']\n"
     ]
    }
   ],
   "source": [
    "def alphabetize_lists(list1, list2):\n",
    "\n",
    "\n",
    "  list1.extend(list2)\n",
    "  return list1\n",
    "\n",
    "\n",
    "Aniyahs_list = [\"Jacomo\", \"Emma\", \"Uli\", \"Nia\", \"Imani\"]\n",
    "Imanis_list = [\"Loik\", \"Gabriel\", \"Ahmed\", \"Soraya\"]\n",
    "\n",
    "\n",
    "print(alphabetize_lists(Aniyahs_list, Imanis_list))\n",
    "# Should print: ['Ahmed', 'Emma', 'Gabriel', 'Imani', 'Jacomo', 'Loik', 'Nia', 'Soraya', 'Uli']\n"
   ]
  },
  {
   "cell_type": "code",
   "execution_count": 7,
   "metadata": {},
   "outputs": [
    {
     "name": "stdout",
     "output_type": "stream",
     "text": [
      "transc\n",
      "nd\n"
     ]
    }
   ],
   "source": [
    "genre= \"transcendental\"\n",
    "print(genre[:-8])\n",
    "print(genre[-7:9])"
   ]
  },
  {
   "cell_type": "code",
   "execution_count": 8,
   "metadata": {},
   "outputs": [],
   "source": [
    "colors = [\"red\", \"white\", \"blue\"]\n",
    "colors.insert(2, \"yellow\")\n"
   ]
  },
  {
   "cell_type": "code",
   "execution_count": 9,
   "metadata": {},
   "outputs": [
    {
     "data": {
      "text/plain": [
       "['red', 'white', 'yellow', 'blue']"
      ]
     },
     "execution_count": 9,
     "metadata": {},
     "output_type": "execute_result"
    }
   ],
   "source": [
    "colors"
   ]
  },
  {
   "cell_type": "code",
   "execution_count": 10,
   "metadata": {},
   "outputs": [
    {
     "data": {
      "text/plain": [
       "dict_keys(['router', 'localhost', 'google'])"
      ]
     },
     "execution_count": 10,
     "metadata": {},
     "output_type": "execute_result"
    }
   ],
   "source": [
    "host_addresses = {\"router\": \"192.168.1.1\", \"localhost\": \"127.0.0.1\", \"google\": \"8.8.8.8\"}\n",
    "host_addresses.keys()"
   ]
  },
  {
   "cell_type": "code",
   "execution_count": null,
   "metadata": {},
   "outputs": [],
   "source": []
  }
 ],
 "metadata": {
  "kernelspec": {
   "display_name": "base",
   "language": "python",
   "name": "python3"
  },
  "language_info": {
   "codemirror_mode": {
    "name": "ipython",
    "version": 3
   },
   "file_extension": ".py",
   "mimetype": "text/x-python",
   "name": "python",
   "nbconvert_exporter": "python",
   "pygments_lexer": "ipython3",
   "version": "3.10.9"
  }
 },
 "nbformat": 4,
 "nbformat_minor": 2
}
