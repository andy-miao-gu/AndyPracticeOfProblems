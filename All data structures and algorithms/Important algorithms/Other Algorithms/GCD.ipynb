{
 "cells": [
  {
   "cell_type": "code",
   "execution_count": 5,
   "metadata": {},
   "outputs": [],
   "source": [
    "def hello(a, b):\n",
    "    while b != 0:\n",
    "        a,b = b, a % b\n",
    "       \n",
    "    return a\n",
    "    \n",
    "\n",
    "\n"
   ]
  },
  {
   "cell_type": "code",
   "execution_count": 6,
   "metadata": {},
   "outputs": [
    {
     "data": {
      "text/plain": [
       "3"
      ]
     },
     "execution_count": 6,
     "metadata": {},
     "output_type": "execute_result"
    }
   ],
   "source": [
    "hello(1701, 3768)"
   ]
  },
  {
   "cell_type": "code",
   "execution_count": null,
   "metadata": {},
   "outputs": [],
   "source": [
    "ih=hi"
   ]
  },
  {
   "cell_type": "code",
   "execution_count": 7,
   "metadata": {},
   "outputs": [],
   "source": [
    "import antigravity"
   ]
  },
  {
   "cell_type": "code",
   "execution_count": 8,
   "metadata": {},
   "outputs": [
    {
     "name": "stdout",
     "output_type": "stream",
     "text": [
      "Teaching fish to climb trees... 🐟🌳\n",
      "Error: Fish cannot climb trees!\n"
     ]
    }
   ],
   "source": [
    "def teach_fish_to_climb_tree(fish):\n",
    "    if isinstance(fish, str) and fish.lower() == \"fish\":\n",
    "        print(\"Teaching fish to climb trees... 🐟🌳\")\n",
    "        print(\"Error: Fish cannot climb trees!\")\n",
    "    else:\n",
    "        print(\"Sorry, I can only teach fish to climb trees!\")\n",
    "        \n",
    "fish = \"fish\"\n",
    "teach_fish_to_climb_tree(fish)\n"
   ]
  },
  {
   "cell_type": "code",
   "execution_count": 10,
   "metadata": {},
   "outputs": [
    {
     "name": "stdout",
     "output_type": "stream",
     "text": [
      "Welcome to the Silly Sentence Generator!\n",
      "Let's create a hilarious sentence!\n",
      "Chicken sang clumsily with a pizza!\n",
      "Elephant ate happily with a guitar!\n",
      "Elephant flew awkwardly with a toilet!\n",
      "Alien flew furiously with a socks!\n",
      "Elephant danced furiously with a toilet!\n",
      "Chicken flew awkwardly with a guitar!\n",
      "Pirate ate awkwardly with a toilet!\n",
      "Chicken ate happily with a pizza!\n",
      "Chicken ate awkwardly with a guitar!\n",
      "Chicken flew carelessly with a socks!\n",
      "Alien sneezed carelessly with a socks!\n",
      "Thanks for playing with silly sentences!\n"
     ]
    }
   ],
   "source": [
    "import random\n",
    "\n",
    "def silly_sentence_generator():\n",
    "    subjects = [\"Elephant\", \"Chicken\", \"Alien\", \"Pirate\", \"Ninja\"]\n",
    "    verbs = [\"danced\", \"sneezed\", \"ate\", \"flew\", \"sang\"]\n",
    "    adverbs = [\"happily\", \"clumsily\", \"awkwardly\", \"furiously\", \"carelessly\"]\n",
    "    objects = [\"pizza\", \"socks\", \"bananas\", \"guitar\", \"toilet\"]\n",
    "    \n",
    "    print(\"Welcome to the Silly Sentence Generator!\")\n",
    "    print(\"Let's create a hilarious sentence!\")\n",
    "    \n",
    "    while True:\n",
    "        subject = random.choice(subjects)\n",
    "        verb = random.choice(verbs)\n",
    "        adverb = random.choice(adverbs)\n",
    "        obj = random.choice(objects)\n",
    "        \n",
    "        sentence = f\"{subject} {verb} {adverb} with a {obj}!\"\n",
    "        \n",
    "        print(sentence)\n",
    "        \n",
    "        response = input(\"Do you want another silly sentence? (yes/no): \").lower()\n",
    "        \n",
    "        if response != \"yes\":\n",
    "            break\n",
    "            \n",
    "    print(\"Thanks for playing with silly sentences!\")\n",
    "    \n",
    "silly_sentence_generator()\n"
   ]
  },
  {
   "cell_type": "code",
   "execution_count": null,
   "metadata": {},
   "outputs": [],
   "source": []
  },
  {
   "cell_type": "code",
   "execution_count": null,
   "metadata": {},
   "outputs": [],
   "source": []
  }
 ],
 "metadata": {
  "kernelspec": {
   "display_name": "base",
   "language": "python",
   "name": "python3"
  },
  "language_info": {
   "codemirror_mode": {
    "name": "ipython",
    "version": 3
   },
   "file_extension": ".py",
   "mimetype": "text/x-python",
   "name": "python",
   "nbconvert_exporter": "python",
   "pygments_lexer": "ipython3",
   "version": "3.10.9"
  }
 },
 "nbformat": 4,
 "nbformat_minor": 2
}
