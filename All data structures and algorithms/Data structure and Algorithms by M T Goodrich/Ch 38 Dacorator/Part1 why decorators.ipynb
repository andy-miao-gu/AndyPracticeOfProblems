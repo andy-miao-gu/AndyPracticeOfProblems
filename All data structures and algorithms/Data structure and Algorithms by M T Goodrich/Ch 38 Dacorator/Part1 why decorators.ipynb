{
 "cells": [
  {
   "cell_type": "code",
   "execution_count": 5,
   "metadata": {},
   "outputs": [
    {
     "name": "stdout",
     "output_type": "stream",
     "text": [
      "Calling add with arguments (9, 3) and keyword arguments {}\n",
      "6\n",
      "add returned 12\n"
     ]
    },
    {
     "data": {
      "text/plain": [
       "12"
      ]
     },
     "execution_count": 5,
     "metadata": {},
     "output_type": "execute_result"
    }
   ],
   "source": [
    "def log_decorator(func):\n",
    "    def wrapper(*args, **kwargs):\n",
    "        print(f\"Calling {func.__name__} with arguments {args} and keyword arguments {kwargs}\")\n",
    "        result = func(*args, **kwargs)\n",
    "        print(args[0]-args[1])\n",
    "        print(f\"{func.__name__} returned {result}\")\n",
    "        \n",
    "        return result\n",
    "    return wrapper\n",
    "\n",
    "@log_decorator\n",
    "def add(a, b):\n",
    "    return a + b\n",
    "\n",
    "add(9, 3)\n"
   ]
  },
  {
   "cell_type": "code",
   "execution_count": 20,
   "metadata": {},
   "outputs": [],
   "source": [
    "## make a function which will give me length of list\n",
    "\n",
    "# without changing function i want to update this so that i want to find that i want to\n",
    "# to that i want is actually i need is to the thing i want to print \n",
    "\n",
    "# simple: i just want to enhance function and i need its avaerage but i nca no chang ehtis function\n",
    "\n",
    "def andyMaster(func):\n",
    "    def andySuperCool(*a,**b):\n",
    "        cl = a[0]\n",
    "        print(\"hhi i am super cool andy i did not change function and i can tell average\")\n",
    "        print(\"average is\",sum(cl)/len(cl))\n",
    "\n",
    "    return andySuperCool\n",
    "\n",
    "@andyMaster\n",
    "def length(lst): # taking lis\n",
    "    leng=0\n",
    "    for each in lst:\n",
    "        leng+=1\n",
    "    return(leng) # length of list\n",
    "\n",
    "\n"
   ]
  },
  {
   "cell_type": "code",
   "execution_count": 21,
   "metadata": {},
   "outputs": [
    {
     "name": "stdout",
     "output_type": "stream",
     "text": [
      "hhi i am super cool andy i did not change function and i can tell average\n",
      "average is 2.7\n"
     ]
    }
   ],
   "source": [
    "length([1,3,2,3,3,3,3,3,3,3])"
   ]
  },
  {
   "cell_type": "code",
   "execution_count": null,
   "metadata": {},
   "outputs": [],
   "source": []
  },
  {
   "cell_type": "code",
   "execution_count": 22,
   "metadata": {},
   "outputs": [],
   "source": [
    "# make a function to find the average of two numbers\n",
    "\n",
    "# # after it define a decorator and do not change function\n",
    "# to get the minimum and maximum bumber also"
   ]
  },
  {
   "cell_type": "code",
   "execution_count": 28,
   "metadata": {},
   "outputs": [],
   "source": [
    "def main(func):\n",
    "    def wrapper(*a,**b):\n",
    "        cl = a[0]\n",
    "        print(\"hi i am super cool andy i did not change function and i can tell minimum and maximum\")\n",
    "        print(\"minimum is\",min(cl), \"maximum is\",max(cl))\n",
    "    return wrapper\n",
    "@main\n",
    "def average(lst):\n",
    "    avg=sum(lst)/2\n",
    "    return(avg)"
   ]
  },
  {
   "cell_type": "code",
   "execution_count": 29,
   "metadata": {},
   "outputs": [
    {
     "name": "stdout",
     "output_type": "stream",
     "text": [
      "hi i am super cool andy i did not change function and i can tell minimum and maximum\n",
      "minimum is 1 maximum is 3\n"
     ]
    }
   ],
   "source": [
    "average([1,3,2,3,3,3,3,3,3,3])"
   ]
  },
  {
   "cell_type": "code",
   "execution_count": null,
   "metadata": {},
   "outputs": [],
   "source": []
  }
 ],
 "metadata": {
  "kernelspec": {
   "display_name": "base",
   "language": "python",
   "name": "python3"
  },
  "language_info": {
   "codemirror_mode": {
    "name": "ipython",
    "version": 3
   },
   "file_extension": ".py",
   "mimetype": "text/x-python",
   "name": "python",
   "nbconvert_exporter": "python",
   "pygments_lexer": "ipython3",
   "version": "3.10.9"
  }
 },
 "nbformat": 4,
 "nbformat_minor": 2
}
