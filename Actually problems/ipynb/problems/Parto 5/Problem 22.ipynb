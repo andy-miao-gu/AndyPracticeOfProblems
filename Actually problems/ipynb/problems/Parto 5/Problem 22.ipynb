{
 "cells": [
  {
   "cell_type": "markdown",
   "metadata": {},
   "source": [
    "# make a small program in which if any person will write his age he will receivie how many days month and weeks he has left if he lives 100 years"
   ]
  },
  {
   "cell_type": "code",
   "execution_count": 3,
   "metadata": {},
   "outputs": [
    {
     "name": "stdout",
     "output_type": "stream",
     "text": [
      "You will live 91 years\n",
      "You will live 1092 months\n",
      "You will live 4368 weeks\n",
      "You will live 30576 days\n"
     ]
    }
   ],
   "source": [
    "age=int(input(\"What age are you\"))\n",
    "year=100-age\n",
    "month=year*12\n",
    "week=month*4\n",
    "day=week*7\n",
    "print(\"You will live\",year,\"years\")\n",
    "print(\"You will live\",month,\"months\")\n",
    "print(\"You will live\",week,\"weeks\")\n",
    "print(\"You will live\",day,\"days\")"
   ]
  },
  {
   "cell_type": "code",
   "execution_count": 4,
   "metadata": {},
   "outputs": [],
   "source": [
    "# got to internet and find the average dying years of \n",
    "# UK, USA, Asia, Europe and Russian\n",
    "# if they are female then they life 7.59 percent years more than man so you should tell if youare male you will life thiss and if youa re female you ill life then"
   ]
  },
  {
   "cell_type": "code",
   "execution_count": null,
   "metadata": {},
   "outputs": [],
   "source": []
  },
  {
   "cell_type": "code",
   "execution_count": 26,
   "metadata": {},
   "outputs": [],
   "source": [
    "lst = {'UK':80.9, \"USA\":77.28, \"Asia\":73.79, \"Europe\":80, \"Africa\":71.65944444444443}"
   ]
  },
  {
   "cell_type": "code",
   "execution_count": 25,
   "metadata": {},
   "outputs": [
    {
     "data": {
      "text/plain": [
       "71.65944444444443"
      ]
     },
     "execution_count": 25,
     "metadata": {},
     "output_type": "execute_result"
    }
   ],
   "source": [
    "(83.30+82.21+79.49+79.13+76.66+72.77+71.33+70.99+70.71+70.45+70.35+69.16+67.42+67.11+65.35+65.27+64.55+63.62)/18"
   ]
  },
  {
   "cell_type": "code",
   "execution_count": 29,
   "metadata": {},
   "outputs": [
    {
     "name": "stdout",
     "output_type": "stream",
     "text": [
      "You will live 68.28 years\n",
      "You will live 819.36 months\n",
      "You will live 3277.44 weeks\n",
      "You will live 22942.08 days\n"
     ]
    }
   ],
   "source": [
    "age=int(input(\"What age are you\"))\n",
    "c = input(f'enter you continent from {lst.keys()}')\n",
    "con = lst[c]\n",
    "year=con-age\n",
    "month=year*12\n",
    "week=month*4\n",
    "day=week*7\n",
    "print(\"You will live\",year,\"years\")\n",
    "print(\"You will live\",month,\"months\")\n",
    "print(\"You will live\",week,\"weeks\")\n",
    "print(\"You will live\",day,\"days\")"
   ]
  },
  {
   "cell_type": "code",
   "execution_count": null,
   "metadata": {},
   "outputs": [],
   "source": []
  }
 ],
 "metadata": {
  "kernelspec": {
   "display_name": "base",
   "language": "python",
   "name": "python3"
  },
  "language_info": {
   "codemirror_mode": {
    "name": "ipython",
    "version": 3
   },
   "file_extension": ".py",
   "mimetype": "text/x-python",
   "name": "python",
   "nbconvert_exporter": "python",
   "pygments_lexer": "ipython3",
   "version": "3.10.9"
  }
 },
 "nbformat": 4,
 "nbformat_minor": 2
}
