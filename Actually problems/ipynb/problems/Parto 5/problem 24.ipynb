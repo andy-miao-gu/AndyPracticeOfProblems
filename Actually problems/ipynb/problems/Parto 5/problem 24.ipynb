{
 "cells": [
  {
   "cell_type": "code",
   "execution_count": 31,
   "metadata": {},
   "outputs": [],
   "source": [
    "extended_calorie_table = {\n",
    "\"Apple\": 52,\n",
    "\"Banana\": 89,\n",
    "\"Chicken breast (cooked)\": 165,\n",
    "\"Rice (white, cooked)\": 130,\n",
    "\"Egg (boiled)\": 155,\n",
    "\"Broccoli (cooked)\": 35,\n",
    "\"Almonds\": 579,\n",
    "\"Salmon (cooked)\": 206,\n",
    "\"Potato (boiled)\": 87,\n",
    "\"Avocado\": 160,\n",
    "\"Chocolate (dark, 70-85% cacao)\": 598,\n",
    "\"Pasta (cooked)\": 131,\n",
    "\"Bread (white)\": 265,\n",
    "\"Butter\": 717,\n",
    "\"Cheese (Cheddar)\": 402,\n",
    "\"Milk (whole)\": 60,\n",
    "\"Yogurt (plain, whole milk)\": 61,\n",
    "\"Tomato\": 18,\n",
    "\"Carrot\": 41,\n",
    "\"Spinach (cooked)\": 23,\n",
    "\"Beef (cooked, lean)\": 250,\n",
    "\"Peanut butter\": 588,\n",
    "\"Quinoa (cooked)\": 120,\n",
    "\"Oats\": 389,\n",
    "\"Tofu\": 76,\n",
    "\"Lentils (cooked)\": 116,\n",
    "\"Bacon\": 541,\n",
    "\"Ham (cooked)\": 145,\n",
    "\"Pizza (cheese)\": 266,\n",
    "\"Beer (regular)\": 43,\n",
    "\"Wine (red)\": 85,\n",
    "\"Soy milk\": 54,\n",
    "\"Orange juice\": 45,\n",
    "\"Honey\": 304,\n",
    "\"Maple syrup\": 260,\n",
    "\"Coconut oil\": 862,\n",
    "\"Olive oil\": 884,\n",
    "\"Sunflower seeds\": 584,\n",
    "\"Walnuts\": 654,\n",
    "\"Cashews\": 553,\n",
    "\"Strawberries\": 32,\n",
    "\"Blueberries\": 57,\n",
    "\"Mango\": 60,\n",
    "\"Kale (cooked)\": 28,\n",
    "\"Garlic\": 149,\n",
    "\"Onions\": 40,\n",
    "\"Cucumber\": 16,\n",
    "\"Celery\": 14,\n",
    "\"Bell pepper\": 20,\n",
    "\"Zucchini\": 17\n",
    "}"
   ]
  },
  {
   "cell_type": "code",
   "execution_count": 32,
   "metadata": {},
   "outputs": [],
   "source": [
    "# from this ditionary find the top 10  highest and top 10 lowest calories product\n"
   ]
  },
  {
   "cell_type": "code",
   "execution_count": 33,
   "metadata": {},
   "outputs": [],
   "source": [
    "dd = extended_calorie_table.items()\n",
    "import pandas as pd"
   ]
  },
  {
   "cell_type": "code",
   "execution_count": 34,
   "metadata": {},
   "outputs": [
    {
     "name": "stdout",
     "output_type": "stream",
     "text": [
      "Top 10 lowest values                     0   1\n",
      "47             Celery  14\n",
      "46           Cucumber  16\n",
      "49           Zucchini  17\n",
      "17             Tomato  18\n",
      "48        Bell pepper  20\n",
      "19   Spinach (cooked)  23\n",
      "43      Kale (cooked)  28\n",
      "40       Strawberries  32\n",
      "5   Broccoli (cooked)  35\n",
      "45             Onions  40\n",
      "Top 10 highest values                                  0    1\n",
      "26                           Bacon  541\n",
      "39                         Cashews  553\n",
      "6                          Almonds  579\n",
      "37                 Sunflower seeds  584\n",
      "21                   Peanut butter  588\n",
      "10  Chocolate (dark, 70-85% cacao)  598\n",
      "38                         Walnuts  654\n",
      "13                          Butter  717\n",
      "35                     Coconut oil  862\n",
      "36                       Olive oil  884\n"
     ]
    }
   ],
   "source": [
    "data = pd.DataFrame(dd)\n",
    "print(\"Top 10 lowest values\",data.sort_values(1).head(10))\n",
    "print(\"Top 10 highest values\",data.sort_values(1).tail(10))"
   ]
  },
  {
   "cell_type": "code",
   "execution_count": 35,
   "metadata": {},
   "outputs": [
    {
     "name": "stdout",
     "output_type": "stream",
     "text": [
      "so day 0 cal is 2284 adn the things i will eat is ['Honey', 'Quinoa (cooked)', 'Lentils (cooked)', 'Pizza (cheese)', 'Celery', 'Garlic', 'Chocolate (dark, 70-85% cacao)', 'Butter']\n",
      "so day 1 cal is 2080 adn the things i will eat is ['Cucumber', 'Coconut oil', 'Ham (cooked)', 'Quinoa (cooked)', 'Broccoli (cooked)', 'Onions', 'Beer (regular)', 'Walnuts', 'Chicken breast (cooked)']\n",
      "so day 2 cal is 2376 adn the things i will eat is ['Ham (cooked)', 'Zucchini', 'Apple', 'Banana', 'Almonds', 'Tomato', 'Salmon (cooked)', 'Butter', 'Cashews']\n",
      "so day 3 cal is 2019 adn the things i will eat is ['Butter', 'Ham (cooked)', 'Spinach (cooked)', 'Bread (white)', 'Oats', 'Orange juice', 'Strawberries', 'Orange juice', 'Milk (whole)', 'Rice (white, cooked)', 'Apple', 'Lentils (cooked)']\n",
      "so day 4 cal is 2225 adn the things i will eat is ['Peanut butter', 'Banana', 'Spinach (cooked)', 'Yogurt (plain, whole milk)', 'Butter', 'Ham (cooked)', 'Celery', 'Peanut butter']\n",
      "so day 5 cal is 2356 adn the things i will eat is ['Oats', 'Banana', 'Olive oil', 'Broccoli (cooked)', 'Blueberries', 'Rice (white, cooked)', 'Celery', 'Avocado', 'Chocolate (dark, 70-85% cacao)']\n",
      "so day 6 cal is 2147 adn the things i will eat is ['Milk (whole)', 'Chicken breast (cooked)', 'Chicken breast (cooked)', 'Tomato', 'Celery', 'Peanut butter', 'Sunflower seeds', 'Cashews']\n",
      "so day 7 cal is 2019 adn the things i will eat is ['Almonds', 'Cheese (Cheddar)', 'Avocado', 'Quinoa (cooked)', 'Chocolate (dark, 70-85% cacao)', 'Avocado']\n",
      "so day 8 cal is 2010 adn the things i will eat is ['Almonds', 'Cucumber', 'Butter', 'Cucumber', 'Banana', 'Celery', 'Almonds']\n",
      "so day 9 cal is 2102 adn the things i will eat is ['Rice (white, cooked)', 'Mango', 'Chicken breast (cooked)', 'Yogurt (plain, whole milk)', 'Celery', 'Wine (red)', 'Walnuts', 'Cashews', 'Quinoa (cooked)', 'Maple syrup']\n",
      "so day 10 cal is 2145 adn the things i will eat is ['Butter', 'Bread (white)', 'Sunflower seeds', 'Almonds']\n",
      "so day 11 cal is 2286 adn the things i will eat is ['Beef (cooked, lean)', 'Cucumber', 'Honey', 'Mango', 'Kale (cooked)', 'Bell pepper', 'Mango', 'Tomato', 'Orange juice', 'Yogurt (plain, whole milk)', 'Quinoa (cooked)', 'Cheese (Cheddar)', 'Tomato', 'Olive oil']\n",
      "so day 12 cal is 2079 adn the things i will eat is ['Blueberries', 'Almonds', 'Lentils (cooked)', 'Pasta (cooked)', 'Cucumber', 'Broccoli (cooked)', 'Celery', 'Carrot', 'Rice (white, cooked)', 'Peanut butter', 'Broccoli (cooked)', 'Beef (cooked, lean)', 'Potato (boiled)']\n",
      "so day 13 cal is 2099 adn the things i will eat is ['Peanut butter', 'Celery', 'Banana', 'Spinach (cooked)', 'Chocolate (dark, 70-85% cacao)', 'Banana', 'Beer (regular)', 'Oats', 'Pizza (cheese)']\n",
      "so day 14 cal is 2078 adn the things i will eat is ['Strawberries', 'Soy milk', 'Yogurt (plain, whole milk)', 'Pizza (cheese)', 'Apple', 'Wine (red)', 'Coconut oil', 'Tomato', 'Strawberries', 'Strawberries', 'Sunflower seeds']\n",
      "so day 15 cal is 2657 adn the things i will eat is ['Banana', 'Yogurt (plain, whole milk)', 'Pasta (cooked)', 'Cucumber', 'Beer (regular)', 'Cheese (Cheddar)', 'Ham (cooked)', 'Beef (cooked, lean)', 'Yogurt (plain, whole milk)', 'Salmon (cooked)', 'Orange juice', 'Celery', 'Egg (boiled)', 'Egg (boiled)', 'Olive oil']\n",
      "so day 16 cal is 2076 adn the things i will eat is ['Bacon', 'Garlic', 'Cheese (Cheddar)', 'Yogurt (plain, whole milk)', 'Beef (cooked, lean)', 'Salmon (cooked)', 'Potato (boiled)', 'Salmon (cooked)', 'Beer (regular)', 'Pasta (cooked)']\n",
      "so day 17 cal is 2160 adn the things i will eat is ['Garlic', 'Wine (red)', 'Bell pepper', 'Rice (white, cooked)', 'Maple syrup', 'Blueberries', 'Mango', 'Strawberries', 'Tomato', 'Tofu', 'Chicken breast (cooked)', 'Avocado', 'Pasta (cooked)', 'Apple', 'Lentils (cooked)', 'Oats', 'Maple syrup']\n",
      "so day 18 cal is 2477 adn the things i will eat is ['Avocado', 'Chicken breast (cooked)', 'Strawberries', 'Walnuts', 'Strawberries', 'Orange juice', 'Pasta (cooked)', 'Bacon', 'Butter']\n",
      "so day 19 cal is 2781 adn the things i will eat is ['Yogurt (plain, whole milk)', 'Carrot', 'Milk (whole)', 'Strawberries', 'Tofu', 'Rice (white, cooked)', 'Orange juice', 'Avocado', 'Quinoa (cooked)', 'Celery', 'Egg (boiled)', 'Strawberries', 'Bell pepper', 'Bell pepper', 'Strawberries', 'Cheese (Cheddar)', 'Soy milk', 'Pasta (cooked)', 'Salmon (cooked)', 'Zucchini', 'Banana', 'Olive oil']\n",
      "so day 20 cal is 2035 adn the things i will eat is ['Coconut oil', 'Tofu', 'Orange juice', 'Quinoa (cooked)', 'Banana', 'Bacon', 'Beef (cooked, lean)', 'Apple']\n",
      "so day 21 cal is 2072 adn the things i will eat is ['Banana', 'Potato (boiled)', 'Beef (cooked, lean)', 'Orange juice', 'Wine (red)', 'Pizza (cheese)', 'Almonds', 'Rice (white, cooked)', 'Bacon']\n",
      "so day 22 cal is 2096 adn the things i will eat is ['Celery', 'Banana', 'Tomato', 'Sunflower seeds', 'Spinach (cooked)', 'Cashews', 'Banana', 'Apple', 'Tofu', 'Chocolate (dark, 70-85% cacao)']\n",
      "so day 23 cal is 2015 adn the things i will eat is ['Ham (cooked)', 'Banana', 'Bread (white)', 'Honey', 'Maple syrup', 'Peanut butter', 'Ham (cooked)', 'Kale (cooked)', 'Pasta (cooked)', 'Milk (whole)']\n",
      "so day 24 cal is 2732 adn the things i will eat is ['Potato (boiled)', 'Chocolate (dark, 70-85% cacao)', 'Kale (cooked)', 'Celery', 'Beer (regular)', 'Pasta (cooked)', 'Mango', 'Pizza (cheese)', 'Zucchini', 'Potato (boiled)', 'Pasta (cooked)', 'Bread (white)', 'Banana', 'Strawberries', 'Olive oil']\n",
      "so day 25 cal is 2034 adn the things i will eat is ['Wine (red)', 'Bread (white)', 'Apple', 'Spinach (cooked)', 'Ham (cooked)', 'Chocolate (dark, 70-85% cacao)', 'Garlic', 'Butter']\n",
      "so day 26 cal is 2209 adn the things i will eat is ['Beef (cooked, lean)', 'Coconut oil', 'Mango', 'Butter', 'Soy milk', 'Pizza (cheese)']\n",
      "so day 27 cal is 2125 adn the things i will eat is ['Beer (regular)', 'Zucchini', 'Honey', 'Walnuts', 'Rice (white, cooked)', 'Butter', 'Maple syrup']\n",
      "so day 28 cal is 2235 adn the things i will eat is ['Apple', 'Garlic', 'Broccoli (cooked)', 'Tofu', 'Olive oil', 'Potato (boiled)', 'Rice (white, cooked)', 'Cucumber', 'Bacon', 'Bread (white)']\n",
      "so day 29 cal is 2029 adn the things i will eat is ['Zucchini', 'Broccoli (cooked)', 'Garlic', 'Egg (boiled)', 'Kale (cooked)', 'Honey', 'Banana', 'Maple syrup', 'Banana', 'Bell pepper', 'Quinoa (cooked)', 'Tofu', 'Chocolate (dark, 70-85% cacao)', 'Banana']\n"
     ]
    },
    {
     "data": {
      "text/plain": [
       "5100"
      ]
     },
     "execution_count": 35,
     "metadata": {},
     "output_type": "execute_result"
    }
   ],
   "source": [
    "# make a monthly plan of my diet plan i dont want to consume not more tahn 3000 cal a day\n",
    "import random\n",
    "# for loop for 30 days then anohter for loop for 1000 times, s = s+current_cal if s>3000 break  reset s = 0\n",
    "f = open('txt.txt','w')\n",
    "month = 'March'\n",
    "txt = \"\"\n",
    "for each in range(30):\n",
    "    tot = 0\n",
    "    prod = []\n",
    "    for i in range(1000):\n",
    "        rand=random.choice(list(extended_calorie_table.items()))\n",
    "        #print(rand[0],'has the colories',rand[1])\n",
    "        tot+=rand[-1]\n",
    "        prod.append(rand[0])\n",
    "        if tot>2000:\n",
    "            break\n",
    "    print(f'so day {each} cal is {tot} adn the things i will eat is {prod}')\n",
    "    txt += f\"\"\"{month} {each+1} {prod} \\n\"\"\"\n",
    "f.write(txt)\n",
    "\n",
    "\n",
    "\n",
    "\n",
    "\n",
    "\n"
   ]
  },
  {
   "cell_type": "code",
   "execution_count": null,
   "metadata": {},
   "outputs": [],
   "source": []
  }
 ],
 "metadata": {
  "kernelspec": {
   "display_name": "base",
   "language": "python",
   "name": "python3"
  },
  "language_info": {
   "codemirror_mode": {
    "name": "ipython",
    "version": 3
   },
   "file_extension": ".py",
   "mimetype": "text/x-python",
   "name": "python",
   "nbconvert_exporter": "python",
   "pygments_lexer": "ipython3",
   "version": "3.10.9"
  }
 },
 "nbformat": 4,
 "nbformat_minor": 2
}
