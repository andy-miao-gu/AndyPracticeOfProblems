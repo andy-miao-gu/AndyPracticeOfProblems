{
 "cells": [
  {
   "cell_type": "code",
   "execution_count": 2,
   "metadata": {},
   "outputs": [],
   "source": [
    "x = list(range(5))"
   ]
  },
  {
   "cell_type": "code",
   "execution_count": 3,
   "metadata": {},
   "outputs": [
    {
     "data": {
      "text/plain": [
       "list"
      ]
     },
     "execution_count": 3,
     "metadata": {},
     "output_type": "execute_result"
    }
   ],
   "source": [
    "type(x)"
   ]
  },
  {
   "cell_type": "code",
   "execution_count": 4,
   "metadata": {},
   "outputs": [
    {
     "name": "stdout",
     "output_type": "stream",
     "text": [
      "6\n"
     ]
    }
   ],
   "source": [
    "a = [1, 2, 3]\n",
    "b = [4, 5, 6]\n",
    "c = a + b\n",
    "print(len(c))"
   ]
  },
  {
   "cell_type": "code",
   "execution_count": 6,
   "metadata": {},
   "outputs": [
    {
     "name": "stdout",
     "output_type": "stream",
     "text": [
      "Glenn\n"
     ]
    }
   ],
   "source": [
    "friends = [ 'Joseph', 'Glenn', 'Sally' ]\n",
    "friends.sort()\n",
    "print(friends[0])"
   ]
  },
  {
   "cell_type": "code",
   "execution_count": 17,
   "metadata": {},
   "outputs": [],
   "source": [
    "fname = input(\"Enter file name: \")\n",
    "fh = open(fname)\n",
    "lst = list()\n",
    "for line in fh:\n",
    "    lst += line.rstrip().split()\n",
    "print(sorted(lst))\n"
   ]
  },
  {
   "cell_type": "code",
   "execution_count": 18,
   "metadata": {},
   "outputs": [
    {
     "data": {
      "text/plain": [
       "['Arise',\n",
       " 'But',\n",
       " 'It',\n",
       " 'Juliet',\n",
       " 'Who',\n",
       " 'already',\n",
       " 'and',\n",
       " 'and',\n",
       " 'and',\n",
       " 'breaks',\n",
       " 'east',\n",
       " 'envious',\n",
       " 'fair',\n",
       " 'grief',\n",
       " 'is',\n",
       " 'is',\n",
       " 'is',\n",
       " 'kill',\n",
       " 'light',\n",
       " 'moon',\n",
       " 'pale',\n",
       " 'sick',\n",
       " 'soft',\n",
       " 'sun',\n",
       " 'sun',\n",
       " 'the',\n",
       " 'the',\n",
       " 'the',\n",
       " 'through',\n",
       " 'what',\n",
       " 'window',\n",
       " 'with',\n",
       " 'yonder',\n",
       " '••••••••••••••••••••••••••••••••••••••••••••••••••••••••••••••••••••••••••••••••••••••••••••••••••••••••••••••••••••••••••••••••']"
      ]
     },
     "execution_count": 18,
     "metadata": {},
     "output_type": "execute_result"
    }
   ],
   "source": [
    "sorted(lst)"
   ]
  },
  {
   "cell_type": "code",
   "execution_count": null,
   "metadata": {},
   "outputs": [],
   "source": []
  }
 ],
 "metadata": {
  "kernelspec": {
   "display_name": "CodingSchool",
   "language": "python",
   "name": "python3"
  },
  "language_info": {
   "codemirror_mode": {
    "name": "ipython",
    "version": 3
   },
   "file_extension": ".py",
   "mimetype": "text/x-python",
   "name": "python",
   "nbconvert_exporter": "python",
   "pygments_lexer": "ipython3",
   "version": "3.10.9"
  }
 },
 "nbformat": 4,
 "nbformat_minor": 2
}
