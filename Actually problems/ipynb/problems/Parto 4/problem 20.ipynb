{
 "cells": [
  {
   "cell_type": "markdown",
   "metadata": {},
   "source": [
    "Situation: You are planning a road trip from City A to City B, which are 300 miles apart. You want to determine how long it will take to reach City B given different average speeds.\n",
    "\n",
    "Question: If you drive at an average speed of 60 miles per hour, how long will it take you to reach City B? Additionally, how much time can you save if you increase your average speed to 75 miles per hour?"
   ]
  },
  {
   "cell_type": "code",
   "execution_count": 5,
   "metadata": {},
   "outputs": [
    {
     "data": {
      "text/plain": [
       "1.0"
      ]
     },
     "execution_count": 5,
     "metadata": {},
     "output_type": "execute_result"
    }
   ],
   "source": [
    "# distance\n",
    "# speed\n",
    "(300/60) - (300/75)"
   ]
  },
  {
   "cell_type": "code",
   "execution_count": 7,
   "metadata": {},
   "outputs": [],
   "source": [
    "# the d=300\n",
    "# the r=60\n",
    "#the time=d/r=5hou\n",
    "# the time for 75 is 4 hou\n",
    "#sothe difference is 1 hour"
   ]
  },
  {
   "cell_type": "markdown",
   "metadata": {},
   "source": [
    "Question: After decoding the first message, you discover that the numbers represent mathematical operations, and the symbols represent mathematical functions. The message reads: \"3 + 4 * 2 = ?\" However, there's a twist: each symbol functions differently depending on its position in the sequence. The first symbol represents addition (+), the second symbol represents subtraction (-), the third symbol represents multiplication (*), and the fourth symbol represents division (/). What is the result of the equation according to this rule?"
   ]
  },
  {
   "cell_type": "code",
   "execution_count": 8,
   "metadata": {},
   "outputs": [],
   "source": [
    "#3 Add 4 subtract 2=24\n",
    "# first symbol=+\n",
    "#second symbol=-\n",
    "#1st sym in sent=+\n",
    "#2nd sym in sent=*\n",
    "# and just replace them"
   ]
  },
  {
   "cell_type": "code",
   "execution_count": null,
   "metadata": {},
   "outputs": [],
   "source": [
    "# iceshak"
   ]
  },
  {
   "cell_type": "code",
   "execution_count": 9,
   "metadata": {},
   "outputs": [],
   "source": [
    "# Individual members from animal species are to be chosen from a special exhibit habitat\n",
    "\n",
    "# the eight specieis are A B C D E F G H \n",
    "\n",
    "# because of itneraction of animals some animal will fight with each other \n",
    "\n",
    "# Rules \n",
    "\n",
    "# G will fight with D E and F\n",
    "# C will fight with B only when G is present\n",
    "# if H is present group 'A' will not fight with anyone\n",
    "# if H is not present group A will fight with B and C only\n",
    "# otherwise no fight\n",
    "\n",
    "\n",
    "\n"
   ]
  },
  {
   "cell_type": "code",
   "execution_count": null,
   "metadata": {},
   "outputs": [],
   "source": [
    "# if G is chosen for habitat which of the follwing cannot be chosen\n",
    "1. A \n",
    "2. B \n",
    "3. E\n",
    "4. C \n",
    "5. H \n"
   ]
  },
  {
   "cell_type": "markdown",
   "metadata": {},
   "source": [
    "#### Selecting Members for a Team from Different Departments\n",
    "#### The team is to be composed of members from five departments: X, Y, Z, W, and V.\n",
    "#### There are specific conflicts between departments that need to be considered:\n",
    "#### X refuses to work with Y or Z.\n",
    "#### Y refuses to work with W.\n",
    "#### Z refuses to work with V.\n",
    "#### V refuses to work with W unless X is also present.\n",
    "#### If Z and V are both present, W will not work with anyone.\n",
    "#### If W is not present, X and Y will not work together.\n",
    "#### If department Z is selected for the team, which of the following departments cannot be chosen?\n",
    "#### X\n",
    "#### Y\n",
    "#### W\n",
    "#### V\n",
    "#### None of the above"
   ]
  },
  {
   "cell_type": "markdown",
   "metadata": {},
   "source": []
  }
 ],
 "metadata": {
  "kernelspec": {
   "display_name": "base",
   "language": "python",
   "name": "python3"
  },
  "language_info": {
   "codemirror_mode": {
    "name": "ipython",
    "version": 3
   },
   "file_extension": ".py",
   "mimetype": "text/x-python",
   "name": "python",
   "nbconvert_exporter": "python",
   "pygments_lexer": "ipython3",
   "version": "3.10.9"
  }
 },
 "nbformat": 4,
 "nbformat_minor": 2
}
