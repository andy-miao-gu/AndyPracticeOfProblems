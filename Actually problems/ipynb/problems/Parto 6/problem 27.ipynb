{
 "cells": [
  {
   "cell_type": "markdown",
   "metadata": {},
   "source": [
    "Problem 1: Data Structures and Algorithms\n",
    "Task: Write a function that takes a list of integers and returns the sum of the two largest unique numbers in the list. If there are fewer than two unique numbers, return None.\n",
    "Requirements:\n",
    "Use lists and sets.\n",
    "Handle edge cases (e.g., empty list, list with one unique number)."
   ]
  },
  {
   "cell_type": "code",
   "execution_count": 5,
   "metadata": {},
   "outputs": [
    {
     "name": "stdout",
     "output_type": "stream",
     "text": [
      "7\n",
      "4\n",
      "29\n"
     ]
    }
   ],
   "source": [
    "def sum_two_largest_unique(numbers):\n",
    "    numbers=set(numbers)\n",
    "    numbers = sorted(numbers)\n",
    "    return sum(numbers[-2:])\n",
    "\n",
    "\n",
    "print(sum_two_largest_unique([4, 1, 2, 4, 3, 1]))  # Output: 7 (4 + 3)\n",
    "print(sum_two_largest_unique([4, 4, 4]))           # Output: None\n",
    "print(sum_two_largest_unique([4,5,5,7,8,9,20,20]))"
   ]
  },
  {
   "cell_type": "markdown",
   "metadata": {},
   "source": [
    "<h1>Problem 2: Object-Oriented Programming\n",
    "Task: Create a BankAccount class that simulates a simple bank account. The class should have methods for depositing money, withdrawing money, and checking the account balance. Ensure that withdrawals do not exceed the available balance.\n",
    "Requirements:\n",
    "Use class and instance attributes.\n",
    "Implement methods for deposit, withdrawal, and balance check.\n",
    "Handle edge cases (e.g., withdrawing more than the balance).</h1>"
   ]
  },
  {
   "cell_type": "code",
   "execution_count": 17,
   "metadata": {},
   "outputs": [
    {
     "name": "stdout",
     "output_type": "stream",
     "text": [
      "You deposited 50yen\n",
      "You withdrawed 30yen\n",
      "You have 120 yen\n"
     ]
    },
    {
     "data": {
      "text/plain": [
       "'Insufficient funds'"
      ]
     },
     "execution_count": 17,
     "metadata": {},
     "output_type": "execute_result"
    }
   ],
   "source": [
    "class BankAccount:\n",
    "    def __init__(self, initial_balance=0):\n",
    "        self.initial_balance=initial_balance\n",
    "\n",
    "    def deposit(self, amount):\n",
    "        print(f\"You deposited {amount}yen\")\n",
    "        self.initial_balance+=amount\n",
    "    def withdraw(self, amount):\n",
    "        if amount>self.initial_balance:\n",
    "            return(\"Insufficient funds\")\n",
    "        else:\n",
    "            print(f\"You withdrawed {amount}yen\")\n",
    "            self.initial_balance-=amount\n",
    "            \n",
    "\n",
    "    def get_balance(self):\n",
    "        return (f\"You have {self.initial_balance} yen\")\n",
    "\n",
    "# Example usage\n",
    "account = BankAccount(100)\n",
    "account.deposit(50)\n",
    "account.withdraw(30)\n",
    "print(account.get_balance())  # Output: 120\n",
    "account.withdraw(200)         # Output: \"Insufficient funds\""
   ]
  },
  {
   "cell_type": "code",
   "execution_count": 18,
   "metadata": {},
   "outputs": [
    {
     "name": "stdout",
     "output_type": "stream",
     "text": [
      "You deposited 2000yen\n"
     ]
    }
   ],
   "source": [
    "account.deposit(2000)"
   ]
  },
  {
   "cell_type": "code",
   "execution_count": 19,
   "metadata": {},
   "outputs": [
    {
     "name": "stdout",
     "output_type": "stream",
     "text": [
      "You withdrawed 1999yen\n"
     ]
    }
   ],
   "source": [
    "account.withdraw(1999)"
   ]
  },
  {
   "cell_type": "code",
   "execution_count": 20,
   "metadata": {},
   "outputs": [
    {
     "data": {
      "text/plain": [
       "'You have 121 yen'"
      ]
     },
     "execution_count": 20,
     "metadata": {},
     "output_type": "execute_result"
    }
   ],
   "source": [
    "account.get_balance()"
   ]
  },
  {
   "cell_type": "markdown",
   "metadata": {},
   "source": [
    "### Problem 3: File Handling and Data Manipulation\n",
    "### Task: Write a function that reads a text file, counts the frequency of each word, and writes the results to a new text file. Ignore case and punctuation.\n",
    "### Requirements:\n",
    "### Use file I/O operations.\n",
    "### Handle string manipulation (case normalization, punctuation removal).\n",
    "### Output should be sorted by word frequency."
   ]
  },
  {
   "cell_type": "code",
   "execution_count": null,
   "metadata": {},
   "outputs": [],
   "source": [
    "def count_word_frequencies(input_file, output_file):\n",
    "    # Your code here\n",
    "\n",
    "# Example usage\n",
    "# Assume 'input.txt' contains: \"Hello world! Hello.\"\n",
    "count_word_frequencies('input.txt', 'output.txt')\n",
    "# The 'output.txt' should contain:\n",
    "# hello: 2\n",
    "# world: 1"
   ]
  }
 ],
 "metadata": {
  "kernelspec": {
   "display_name": "base",
   "language": "python",
   "name": "python3"
  },
  "language_info": {
   "codemirror_mode": {
    "name": "ipython",
    "version": 3
   },
   "file_extension": ".py",
   "mimetype": "text/x-python",
   "name": "python",
   "nbconvert_exporter": "python",
   "pygments_lexer": "ipython3",
   "version": "3.10.9"
  }
 },
 "nbformat": 4,
 "nbformat_minor": 2
}
