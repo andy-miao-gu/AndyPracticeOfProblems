{
 "cells": [
  {
   "cell_type": "markdown",
   "metadata": {},
   "source": [
    "# There is a method of dictionary. If I want to access the elements of a dictionary"
   ]
  },
  {
   "cell_type": "code",
   "execution_count": 2,
   "metadata": {},
   "outputs": [],
   "source": [
    "complex_dict = {\n",
    "    \"person\": {\n",
    "        \"name\": \"Andy\",\n",
    "        \"age\": 30,\n",
    "        \"address\": {\n",
    "            \"city\": \"Hidden City\",\n",
    "            \"zipcode\": \"12345\"\n",
    "        },\n",
    "        \"interests\": [\"programming\", \"reading\", \"hiking\"]\n",
    "    },\n",
    "    \"metadata\": {\n",
    "        \"created_at\": \"2024-01-29\",\n",
    "        \"version\": 1.0\n",
    "    }\n",
    "}\n"
   ]
  },
  {
   "cell_type": "code",
   "execution_count": 3,
   "metadata": {},
   "outputs": [],
   "source": [
    "keys=complex_dict.keys()"
   ]
  },
  {
   "cell_type": "code",
   "execution_count": 4,
   "metadata": {},
   "outputs": [
    {
     "data": {
      "text/plain": [
       "dict_keys(['person', 'metadata'])"
      ]
     },
     "execution_count": 4,
     "metadata": {},
     "output_type": "execute_result"
    }
   ],
   "source": [
    "keys"
   ]
  },
  {
   "cell_type": "code",
   "execution_count": 8,
   "metadata": {},
   "outputs": [],
   "source": [
    "person_kinda=complex_dict[\"person\"]"
   ]
  },
  {
   "cell_type": "code",
   "execution_count": 12,
   "metadata": {},
   "outputs": [
    {
     "name": "stdout",
     "output_type": "stream",
     "text": [
      "The city is Hidden City\n",
      "The city is 12345\n"
     ]
    }
   ],
   "source": [
    "address=person_kinda[\"address\"]\n",
    "for each in address:\n",
    "    print(f\"The city is {address[each]}\")"
   ]
  },
  {
   "cell_type": "code",
   "execution_count": 17,
   "metadata": {},
   "outputs": [
    {
     "data": {
      "text/plain": [
       "[{'person': {'name': 'Person1',\n",
       "   'age': 26,\n",
       "   'address': {'city': 'City1', 'zipcode': '00001'},\n",
       "   'interests': ['interest1', 'interest2', 'interest1']},\n",
       "  'metadata': {'created_at': '2024-01-29', 'version': 1.0}},\n",
       " {'person': {'name': 'Person2',\n",
       "   'age': 27,\n",
       "   'address': {'city': 'City2', 'zipcode': '00002'},\n",
       "   'interests': ['interest1', 'interest2', 'interest2']},\n",
       "  'metadata': {'created_at': '2024-01-29', 'version': 1.0}},\n",
       " {'person': {'name': 'Person3',\n",
       "   'age': 28,\n",
       "   'address': {'city': 'City3', 'zipcode': '00003'},\n",
       "   'interests': ['interest1', 'interest2', 'interest3']},\n",
       "  'metadata': {'created_at': '2024-01-29', 'version': 1.0}},\n",
       " {'person': {'name': 'Person4',\n",
       "   'age': 29,\n",
       "   'address': {'city': 'City4', 'zipcode': '00004'},\n",
       "   'interests': ['interest1', 'interest2', 'interest4']},\n",
       "  'metadata': {'created_at': '2024-01-29', 'version': 1.0}},\n",
       " {'person': {'name': 'Person5',\n",
       "   'age': 30,\n",
       "   'address': {'city': 'City5', 'zipcode': '00005'},\n",
       "   'interests': ['interest1', 'interest2', 'interest5']},\n",
       "  'metadata': {'created_at': '2024-01-29', 'version': 1.0}},\n",
       " {'person': {'name': 'Person6',\n",
       "   'age': 31,\n",
       "   'address': {'city': 'City6', 'zipcode': '00006'},\n",
       "   'interests': ['interest1', 'interest2', 'interest6']},\n",
       "  'metadata': {'created_at': '2024-01-29', 'version': 1.0}},\n",
       " {'person': {'name': 'Person7',\n",
       "   'age': 32,\n",
       "   'address': {'city': 'City7', 'zipcode': '00007'},\n",
       "   'interests': ['interest1', 'interest2', 'interest7']},\n",
       "  'metadata': {'created_at': '2024-01-29', 'version': 1.0}},\n",
       " {'person': {'name': 'Person8',\n",
       "   'age': 33,\n",
       "   'address': {'city': 'City8', 'zipcode': '00008'},\n",
       "   'interests': ['interest1', 'interest2', 'interest8']},\n",
       "  'metadata': {'created_at': '2024-01-29', 'version': 1.0}},\n",
       " {'person': {'name': 'Person9',\n",
       "   'age': 34,\n",
       "   'address': {'city': 'City9', 'zipcode': '00009'},\n",
       "   'interests': ['interest1', 'interest2', 'interest9']},\n",
       "  'metadata': {'created_at': '2024-01-29', 'version': 1.0}},\n",
       " {'person': {'name': 'Person10',\n",
       "   'age': 35,\n",
       "   'address': {'city': 'City10', 'zipcode': '000010'},\n",
       "   'interests': ['interest1', 'interest2', 'interest10']},\n",
       "  'metadata': {'created_at': '2024-01-29', 'version': 1.0}}]"
      ]
     },
     "execution_count": 17,
     "metadata": {},
     "output_type": "execute_result"
    }
   ],
   "source": [
    "import json\n",
    "s = open(\"hidden_data_list.json\")\n",
    "d = json.load(s)\n",
    "d"
   ]
  },
  {
   "cell_type": "code",
   "execution_count": 20,
   "metadata": {},
   "outputs": [
    {
     "data": {
      "text/plain": [
       "({}, {})"
      ]
     },
     "execution_count": 20,
     "metadata": {},
     "output_type": "execute_result"
    }
   ],
   "source": [
    "{}, {}"
   ]
  },
  {
   "cell_type": "code",
   "execution_count": 25,
   "metadata": {},
   "outputs": [
    {
     "name": "stdout",
     "output_type": "stream",
     "text": [
      "The city is City1\n",
      "The city is 00001\n",
      "The city is City2\n",
      "The city is 00002\n",
      "The city is City3\n",
      "The city is 00003\n",
      "The city is City4\n",
      "The city is 00004\n",
      "The city is City5\n",
      "The city is 00005\n",
      "The city is City6\n",
      "The city is 00006\n",
      "The city is City7\n",
      "The city is 00007\n",
      "The city is City8\n",
      "The city is 00008\n",
      "The city is City9\n",
      "The city is 00009\n",
      "The city is City10\n",
      "The city is 000010\n"
     ]
    }
   ],
   "source": [
    "for complex_dict in d:\n",
    "    person_kinda=complex_dict[\"person\"]\n",
    "    address=person_kinda[\"address\"]\n",
    "    for each in address:\n",
    "        print(f\"The city is {address[each]}\")"
   ]
  },
  {
   "cell_type": "code",
   "execution_count": 29,
   "metadata": {},
   "outputs": [
    {
     "name": "stdout",
     "output_type": "stream",
     "text": [
      "The date is 2024-01-29\n",
      "The date is 1.0\n",
      "The date is 2024-01-29\n",
      "The date is 1.0\n",
      "The date is 2024-01-29\n",
      "The date is 1.0\n",
      "The date is 2024-01-29\n",
      "The date is 1.0\n",
      "The date is 2024-01-29\n",
      "The date is 1.0\n",
      "The date is 2024-01-29\n",
      "The date is 1.0\n",
      "The date is 2024-01-29\n",
      "The date is 1.0\n",
      "The date is 2024-01-29\n",
      "The date is 1.0\n",
      "The date is 2024-01-29\n",
      "The date is 1.0\n",
      "The date is 2024-01-29\n",
      "The date is 1.0\n"
     ]
    }
   ],
   "source": [
    "date = []\n",
    "for complex_dict in d:\n",
    "    meta_kinda=complex_dict[\"metadata\"]\n",
    "    for each in meta_kinda:\n",
    "        print(f\"The date is {meta_kinda[each]}\")\n",
    "        date.append(meta_kinda[each])"
   ]
  },
  {
   "cell_type": "code",
   "execution_count": 30,
   "metadata": {},
   "outputs": [
    {
     "data": {
      "text/plain": [
       "['2024-01-29',\n",
       " 1.0,\n",
       " '2024-01-29',\n",
       " 1.0,\n",
       " '2024-01-29',\n",
       " 1.0,\n",
       " '2024-01-29',\n",
       " 1.0,\n",
       " '2024-01-29',\n",
       " 1.0,\n",
       " '2024-01-29',\n",
       " 1.0,\n",
       " '2024-01-29',\n",
       " 1.0,\n",
       " '2024-01-29',\n",
       " 1.0,\n",
       " '2024-01-29',\n",
       " 1.0,\n",
       " '2024-01-29',\n",
       " 1.0]"
      ]
     },
     "execution_count": 30,
     "metadata": {},
     "output_type": "execute_result"
    }
   ],
   "source": [
    "date"
   ]
  },
  {
   "cell_type": "code",
   "execution_count": null,
   "metadata": {},
   "outputs": [],
   "source": []
  }
 ],
 "metadata": {
  "kernelspec": {
   "display_name": "base",
   "language": "python",
   "name": "python3"
  },
  "language_info": {
   "codemirror_mode": {
    "name": "ipython",
    "version": 3
   },
   "file_extension": ".py",
   "mimetype": "text/x-python",
   "name": "python",
   "nbconvert_exporter": "python",
   "pygments_lexer": "ipython3",
   "version": "3.10.9"
  }
 },
 "nbformat": 4,
 "nbformat_minor": 2
}
