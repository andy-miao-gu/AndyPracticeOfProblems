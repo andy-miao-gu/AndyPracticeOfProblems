{
 "cells": [
  {
   "cell_type": "code",
   "execution_count": null,
   "metadata": {},
   "outputs": [],
   "source": [
    "# there is a wonderland somwhere.\n",
    "# there are 6 houses with different colors\n",
    "\n",
    "# rule 1 house 1 is connected with house 3\n",
    "# rule 2 house 2 is connected with house 3\n",
    "# rule 3 house 4 is connected with house 3\n",
    "# rule 4 house 5 is connected with house 3\n",
    "# rule 5 house 4 is connected with house 5\n",
    "# rule 6 house 1 is connected with house 6\n",
    "# rule 7 house 2 is connected with house 6\n",
    "\n",
    "# connected houses should have differnt colors\n",
    "\n"
   ]
  },
  {
   "cell_type": "code",
   "execution_count": null,
   "metadata": {},
   "outputs": [],
   "source": []
  }
 ],
 "metadata": {
  "language_info": {
   "name": "python"
  }
 },
 "nbformat": 4,
 "nbformat_minor": 2
}
